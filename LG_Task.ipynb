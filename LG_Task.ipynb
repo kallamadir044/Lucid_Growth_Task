{
  "nbformat": 4,
  "nbformat_minor": 0,
  "metadata": {
    "colab": {
      "provenance": [],
      "authorship_tag": "ABX9TyOAJaRKj5P5KNpcA4xNAt/t"
    },
    "kernelspec": {
      "name": "python3",
      "display_name": "Python 3"
    },
    "language_info": {
      "name": "python"
    }
  },
  "cells": [
    {
      "cell_type": "markdown",
      "source": [
        "# **Filter Companies by Services**\n",
        "## Description\n",
        "\n",
        "This script filters companies from a CSV file based on specific services they offer. The script loads a CSV file named '*companies.csv*', extracts the column\n",
        "names, defines a list of relevant services related to email marketing and management, filters the companies based on those services, and saves the filtered companies to a new CSV file named '*filtered_companies.csv*'.\n",
        "## Requirements\n",
        "\n",
        "        * Python3\n",
        "        * csv module (built-in)\n",
        "# Usage\n",
        "\n",
        "        1. Place the companies.csv file in the same directory as the script.\n",
        "        2. Run the script using Python: python filter_companies.py\n",
        "        3. The script will generate a new CSV file named filtered_companies.\n",
        "        4. csv with the filtered companies.\n",
        "# Script\n",
        "\n",
        "**Step 1: Load the CSV file**\n",
        "\n",
        "The script loads the 'companies.csv' file using the 'csv' module."
      ],
      "metadata": {
        "id": "4k8VCCdQzkar"
      }
    },
    {
      "cell_type": "code",
      "source": [
        "with open('companies.csv', 'r') as file:\n",
        "    reader = csv.reader(file)\n",
        "    companies = list(reader)"
      ],
      "metadata": {
        "id": "sVFQs31x5Ktq"
      },
      "execution_count": null,
      "outputs": []
    },
    {
      "cell_type": "markdown",
      "source": [
        "**Step 2: Get the column names**\n",
        "\n",
        "The script extracts the column names from the first row of the CSV file."
      ],
      "metadata": {
        "id": "cbGYR1h_5O1D"
      }
    },
    {
      "cell_type": "code",
      "source": [
        "column_names = companies[0][1:]"
      ],
      "metadata": {
        "id": "dYQ-wxVh5fq_"
      },
      "execution_count": null,
      "outputs": []
    },
    {
      "cell_type": "markdown",
      "source": [
        "**Step 3: Define the relevant services**\n",
        "\n",
        "The script defines a list of relevant services related to bulk email sending."
      ],
      "metadata": {
        "id": "sOSOPxkD5gxg"
      }
    },
    {
      "cell_type": "code",
      "source": [
        "relevant_services = ['mass email', 'bulk email', 'high volume email sending', 'email blast services', 'Mail Transfer Agent', 'MTA configuration', 'MTA management', 'email system administration', 'email marketing', 'email infrastructure', 'email system assessment', 'email monitoring']"
      ],
      "metadata": {
        "id": "CzAttm1m5nXY"
      },
      "execution_count": null,
      "outputs": []
    },
    {
      "cell_type": "markdown",
      "source": [
        "**Step 4: Filter the companies**\n",
        "\n",
        "The script filters the companies based on the presence of relevant services in their service offerings."
      ],
      "metadata": {
        "id": "gLmmSoMJ5s40"
      }
    },
    {
      "cell_type": "code",
      "source": [
        "filtered_companies = [column_names]  # Add column names to the filtered list\n",
        "for company in companies[1:]:\n",
        "    if any(service in company[2] for service in relevant_services):\n",
        "        filtered_companies.append(company[1:])"
      ],
      "metadata": {
        "id": "2R36SXYB54O0"
      },
      "execution_count": null,
      "outputs": []
    },
    {
      "cell_type": "markdown",
      "source": [
        "**Step 5: Save the filtered companies to a new CSV file**\n",
        "\n",
        "The script saves the filtered companies to a new CSV file named 'filtered_companies.csv'."
      ],
      "metadata": {
        "id": "4EdXcNrR57Or"
      }
    },
    {
      "cell_type": "code",
      "source": [
        "with open('filtered_companies.csv', 'w', newline='') as file:\n",
        "    writer = csv.writer(file)\n",
        "    writer.writerows(filtered_companies)"
      ],
      "metadata": {
        "id": "kda0sujn6EIc"
      },
      "execution_count": null,
      "outputs": []
    },
    {
      "cell_type": "markdown",
      "source": [
        "**Input**\n",
        "\n",
        "The script takes a CSV file named 'companies.csv'\n",
        "\n",
        "**Output**\n",
        "\n",
        "The script generates a new CSV file named 'filtered_companies.csv' with the filtered companies. The output CSV file has the same columns as the input CSV file."
      ],
      "metadata": {
        "id": "DzR2Dc6G6XEY"
      }
    }
  ]
}